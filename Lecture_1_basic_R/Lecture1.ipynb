{
 "cells": [
  {
   "cell_type": "markdown",
   "metadata": {},
   "source": [
    "# Exercise 1: Simulate Data and Run OLS\n",
    "**Zhentao Shi**\n",
    "\n",
    "\n",
    "### Data Generation\n",
    "If data is generated from the linear model $Y = X \\beta+ \\epsilon$, we can estimate $\\beta$ from the observable $Y$ and $X$. This Notebooks is a step-by-step illustration. \n",
    "\n",
    "We first generate $X$ and $\\epsilon$, and then we can generate $Y$ according to the linear model. We set the true parameter as $\\beta = (0.5, 1)$."
   ]
  },
  {
   "cell_type": "code",
   "execution_count": 1,
   "metadata": {
    "collapsed": false
   },
   "outputs": [
    {
     "data": {
      "text/plain": [
       "100-element Array{Float64,1}:\n",
       "  4.25688 \n",
       "  1.02422 \n",
       " -4.07049 \n",
       "  0.372016\n",
       "  0.603023\n",
       " -1.97952 \n",
       "  0.615611\n",
       "  3.46563 \n",
       "  2.50096 \n",
       " -0.493374\n",
       "  2.44082 \n",
       " -1.60009 \n",
       "  0.251801\n",
       "  ⋮       \n",
       " -3.81217 \n",
       "  0.831073\n",
       "  1.17887 \n",
       "  1.14129 \n",
       " -0.736798\n",
       " -0.467653\n",
       " -2.85293 \n",
       "  0.783885\n",
       " -1.56785 \n",
       "  0.268431\n",
       "  0.122983\n",
       " -1.98263 "
      ]
     },
     "execution_count": 1,
     "metadata": {},
     "output_type": "execute_result"
    }
   ],
   "source": [
    "using Distributions\n",
    "\n",
    "n = 100\n",
    "b0 = [ 0.5; 1.0 ]\n",
    "\n",
    "X = 2 * rand(Normal(), n,1)\n",
    "X = hcat(ones(n,1), X )\n",
    "e = rand(Normal(), n)\n",
    "Y = X * b0 + e"
   ]
  },
  {
   "cell_type": "markdown",
   "metadata": {},
   "source": [
    "### Parameter Estimation\n",
    "In the estimation step, we will try to recover $\\beta$ using $Y$ and $X$. In real world, we have no access to $\\epsilon$. \n",
    "\n",
    "We know that the OLS has a closed-form solution $$\\hat{\\beta} = (X'X)^{-1} X'Y.$$ We literally translate the mathematical expression into code."
   ]
  },
  {
   "cell_type": "code",
   "execution_count": 2,
   "metadata": {
    "collapsed": false
   },
   "outputs": [
    {
     "data": {
      "text/plain": [
       "2-element Array{Float64,1}:\n",
       " 0.431186\n",
       " 0.998171"
      ]
     },
     "execution_count": 2,
     "metadata": {},
     "output_type": "execute_result"
    }
   ],
   "source": [
    "bhat = inv( X' * X) * (X' * Y )"
   ]
  },
  {
   "cell_type": "markdown",
   "metadata": {},
   "source": [
    "The estimate is indeed close to the true paramter. It shows that the law of large numbers is not an empty promise.\n",
    "\n",
    "Next, we calculate the t-statistics for $\\beta_2$, the slope coefficient. Again, we translate\n",
    "$$ T = \\frac{\\beta_2}{\\sqrt{ \\hat{\\sigma}^2 \\left[ (X'X)^{-1} \\right]_{22} }  } $$ into code"
   ]
  },
  {
   "cell_type": "code",
   "execution_count": 3,
   "metadata": {
    "collapsed": false
   },
   "outputs": [
    {
     "data": {
      "text/plain": [
       "20.96060169175572"
      ]
     },
     "execution_count": 3,
     "metadata": {},
     "output_type": "execute_result"
    }
   ],
   "source": [
    "e_hat = Y - X * bhat\n",
    "bhat2 = bhat[2]\n",
    "\n",
    "sigma_hat_square = sum(e_hat.^2)/(n-2)\n",
    "sig_B = inv( X' * X ) * sigma_hat_square\n",
    "t_value = bhat2 / sqrt( sig_B[2,2] )"
   ]
  },
  {
   "cell_type": "markdown",
   "metadata": {},
   "source": [
    "The result shows that the null hypothesis that $\\beta_2 = 0$ can be rejected at any commonly used significance levels."
   ]
  }
 ],
 "metadata": {
  "kernelspec": {
   "display_name": "Julia 0.4.3",
   "language": "julia",
   "name": "julia-0.4"
  },
  "language_info": {
   "file_extension": ".jl",
   "mimetype": "application/julia",
   "name": "julia",
   "version": "0.4.3"
  }
 },
 "nbformat": 4,
 "nbformat_minor": 0
}
