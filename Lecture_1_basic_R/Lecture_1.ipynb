{
 "cells": [
  {
   "cell_type": "markdown",
   "metadata": {},
   "source": [
    "## Zhentao Shi"
   ]
  },
  {
   "cell_type": "markdown",
   "metadata": {},
   "source": [
    "* help system: `?`, '??'. eg. `?seq`, `??sequence`\n",
    "* `c()`\n",
    "* arithmetic\n",
    "* logical vector `!=`, `&` vs `&&`, `any`, `all`\n",
    "* factor\n",
    "* character\n",
    "* missing values `NA`, `NaN`\n",
    "* index vector for selection `a[ ]`. Either positive integer or logical vector."
   ]
  },
  {
   "cell_type": "code",
   "execution_count": 2,
   "metadata": {
    "collapsed": false
   },
   "outputs": [
    {
     "name": "stdout",
     "output_type": "stream",
     "text": [
      "[1] FALSE  TRUE FALSE\n"
     ]
    }
   ],
   "source": [
    "logi_1 = c(T,T,F)\n",
    "logi_2 = c(F,T,T)\n",
    "\n",
    "logi_12 = logi_1 & logi_2\n",
    "print(logi_12)"
   ]
  },
  {
   "cell_type": "markdown",
   "metadata": {},
   "source": [
    "### Arrays \n",
    "\n",
    "* array arithematic. elementwise. \n",
    "* `%*%`, `solve`, `eigen`\n",
    "* matrix\n",
    "\n",
    "example: OLS estimator with one x regressor and a constant"
   ]
  },
  {
   "cell_type": "code",
   "execution_count": 3,
   "metadata": {
    "collapsed": false
   },
   "outputs": [
    {
     "name": "stdout",
     "output_type": "stream",
     "text": [
      "[1] -0.5615293\n"
     ]
    },
    {
     "data": {
      "image/png": "[encoded data removed]",
      "text/plain": [
       "Plot with title \"regression\""
      ]
     },
     "metadata": {},
     "output_type": "display_data"
    }
   ],
   "source": [
    "# check the OLS fitting\n",
    "rm(list = ls( ) )\n",
    "set.seed(111)\n",
    "\n",
    "# set the parameters\n",
    "n = 100\n",
    "b0 = matrix(1, nrow = 2 )\n",
    "\n",
    "# generate the data\n",
    "e = rnorm(n)\n",
    "X = cbind( 1, rnorm(n) ) # you can try this line. See what is the difference.\n",
    "Y = X %*% b0 + e\n",
    "\n",
    "# OLS estimation\n",
    "bhat = solve( t(X) %*% X, t(X)%*% Y ) \n",
    "\n",
    "# plot\n",
    "plot( y = Y, x = X[,2], xlab = \"X\", ylab = \"Y\", main = \"regression\")\n",
    "abline( a= bhat[1], b = bhat[2])\n",
    "abline( a = b0[1], b = b0[2], col = \"red\")\n",
    "abline( h = 0, lty = 2)\n",
    "abline( v = 0, lty = 2)\n",
    "\n",
    "# calculate the t-value\n",
    "bhat2 = bhat[2] # parameter we want to test\n",
    "e_hat = Y - X %*% bhat\n",
    "sigma_hat_square = sum(e_hat^2)/ (n-2)\n",
    "sig_B = solve( t(X) %*% X  ) * sigma_hat_square\n",
    "t_value_2 = ( bhat2 - b0[2]) / sqrt( sig_B[2,2] ) \n",
    "print(t_value_2)"
   ]
  },
  {
   "cell_type": "markdown",
   "metadata": {},
   "source": [
    "### Mixed data types\n",
    "\n",
    "* list\n",
    "* data.frame\n",
    "\n",
    "### Input and output\n",
    "\n",
    "* `read.table()`\n",
    "* `write.table()`\n",
    "\n",
    "\n",
    "Example\n",
    "\n",
    "```\n",
    "HEX = read.csv(\"http://ichart.finance.yahoo.com/table.csv?s=0388.HK\") \n",
    "print(head(HEX))\n",
    "write.csv(HEX, file = \"HEX.csv\")\n",
    "```"
   ]
  },
  {
   "cell_type": "markdown",
   "metadata": {},
   "source": [
    "### Statitics\n",
    "\n",
    "* `p`, `d`, `q`, `r`\n",
    "\n",
    "example: \n",
    "\n",
    "1. plot the density of $\\chi^2(3)$ over `x_axis = seq(0.01, 15, by = 0.01)`\n",
    "2. generate 1000 observations for the above distribution. plot the kernel density.\n",
    "3. calculate the 95-th quantile and the empirical probability of observing a value greater than the 95-th quantile."
   ]
  },
  {
   "cell_type": "code",
   "execution_count": 4,
   "metadata": {
    "collapsed": false
   },
   "outputs": [
    {
     "data": {
      "text/html": [
       "0.047"
      ],
      "text/latex": [
       "0.047"
      ],
      "text/markdown": [
       "0.047"
      ],
      "text/plain": [
       "[1] 0.047"
      ]
     },
     "metadata": {},
     "output_type": "display_data"
    },
    {
     "data": {
      "image/png": "[encoded data removed]",
      "text/plain": [
       "plot without title"
      ]
     },
     "metadata": {},
     "output_type": "display_data"
    }
   ],
   "source": [
    "set.seed(888)\n",
    "x_axis = seq(0.01, 15, by = 0.01)\n",
    "\n",
    "y = dchisq(x_axis, df = 3)\n",
    "plot(y = y, x=x_axis, type = \"l\")\n",
    "z = rchisq(1000, df = 3)\n",
    "lines( density(z), col = \"red\")\n",
    "crit = qchisq(.95, df = 3)\n",
    "\n",
    "mean( z > crit )"
   ]
  },
  {
   "cell_type": "markdown",
   "metadata": {},
   "source": [
    "### Flow control\n",
    "\n",
    "* `if`\n",
    "* `for`, `while`\n",
    "\n",
    "example: calculate the empirical coverage probability of a poisson distribution of degree of freedom 2.\n"
   ]
  },
  {
   "cell_type": "code",
   "execution_count": 6,
   "metadata": {
    "collapsed": false
   },
   "outputs": [
    {
     "data": {
      "text/html": [
       "0.938"
      ],
      "text/latex": [
       "0.938"
      ],
      "text/markdown": [
       "0.938"
      ],
      "text/plain": [
       "[1] 0.938"
      ]
     },
     "metadata": {},
     "output_type": "display_data"
    },
    {
     "name": "stdout",
     "output_type": "stream",
     "text": [
      "Time difference of 0.04803395 secs\n"
     ]
    }
   ],
   "source": [
    "# construct confidence interval\n",
    "\n",
    "CI = function(x){\n",
    "  # x is a vector of random variables\n",
    "  \n",
    "  n = length(x)\n",
    "  mu = mean(x)\n",
    "  sig = sd(x)\n",
    "  upper = mu + 1.96/sqrt(n) * sig\n",
    "  lower = mu - 1.96/sqrt(n) * sig\n",
    "  return( list( lower = lower, upper = upper) )\n",
    "}\n",
    "\n",
    "\n",
    "\n",
    "Rep = 1000\n",
    "sample_size = 100\n",
    "capture = rep(0, Rep)\n",
    "\n",
    "\n",
    "pts0 = Sys.time() # check time\n",
    "for (i in 1:Rep){\n",
    "  mu = 2\n",
    "  x = rpois(sample_size, mu)\n",
    "  bounds = CI(x)\n",
    "  capture[i] = ( ( bounds$lower <= mu  ) & (mu <= bounds$upper) )\n",
    "}\n",
    "mean(capture) # empirical size\n",
    "pts1 = Sys.time() - pts0 # check time elapse\n",
    "print(pts1)"
   ]
  }
 ],
 "metadata": {
  "anaconda-cloud": {},
  "kernelspec": {
   "display_name": "R",
   "language": "R",
   "name": "ir"
  },
  "language_info": {
   "codemirror_mode": "r",
   "file_extension": ".r",
   "mimetype": "text/x-r-source",
   "name": "R",
   "pygments_lexer": "r",
   "version": "3.3.0"
  }
 },
 "nbformat": 4,
 "nbformat_minor": 0
}
