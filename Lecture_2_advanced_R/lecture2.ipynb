{
 "cells": [
  {
   "cell_type": "markdown",
   "metadata": {},
   "source": [
    "# Lecture 2: Advanced R\n",
    "Zhentao Shi  \n",
    "Feb 1, 2016  \n",
    "\n",
    "\n",
    "# Git\n",
    "\n",
    "References\n",
    "\n",
    "* [Online Tutorial](https://www.atlassian.com/git/tutorials)\n",
    "* [Pro Git](http://git-scm.com/book/en/v2)\n",
    "\n",
    "## basic commands\n",
    "\n",
    "Local\n",
    "\n",
    "* git clone https://github.com/frankshi/econ5170\n",
    "* git config --global user.name <name>\n",
    "* git config --global user.email <email>\n",
    "* git init\n",
    "* git status\n",
    "* git add\n",
    "* git commit\n",
    "* git log\n",
    "* git tag -a v1.0 -m 'message'\n",
    "* git rm --cached filename\n",
    "* git branch [brach_name]\n",
    "* git checkout [commit_id or branch name]\n",
    "* .gitignore\n",
    "\n",
    "Remote\n",
    "\n",
    "* git remote add origin\n",
    "* git push origin master\n",
    "\n",
    "\n",
    "## Packages\n",
    "\n",
    "An initial installation of R is small, but R has an extensive system of add-on packages. A package can be installed and invoked by"
   ]
  },
  {
   "cell_type": "code",
   "execution_count": 1,
   "metadata": {},
   "outputs": [
    {
     "name": "stderr",
     "output_type": "stream",
     "text": [
      "ERROR: Cell magic `%%R` not found.\n"
     ]
    }
   ],
   "source": [
    "%%R\n",
    "install.packages(\"package_name\")\n",
    "library(package_name)"
   ]
  },
  {
   "cell_type": "markdown",
   "metadata": {},
   "source": [
    "eg: The following packages are useful for parallel computing."
   ]
  },
  {
   "cell_type": "code",
   "execution_count": 2,
   "metadata": {},
   "outputs": [
    {
     "name": "stderr",
     "output_type": "stream",
     "text": [
      "ERROR: Cell magic `%%R` not found.\n"
     ]
    }
   ],
   "source": [
    "%%R\n",
    "library(plyr)\n",
    "library(foreach)\n",
    "library(doParallel)"
   ]
  },
  {
   "cell_type": "code",
   "execution_count": 3,
   "metadata": {},
   "outputs": [],
   "source": [
    "## Loading required package: iterators\n",
    "## Loading required package: parallel"
   ]
  },
  {
   "cell_type": "markdown",
   "metadata": {},
   "source": [
    "## Speed \n",
    "\n",
    "Mathematically equivalent though, different calculation methods perform very differently in terms of computational speed. \n",
    "\n",
    "example: calculate the heteroskedastic-robust variance for the OLS regression of a linear probability model. The difficult part is $\\sum_{i=1}^n e_i^2 x_i x_i'$. We propose four ways.\n",
    "\n",
    "1. literally add through $i=1,\\ldots,n$ one by one.\n",
    "2. $X' \\mathrm{diag}(e^2) X$, with a dense central matrix.\n",
    "3. $X' \\mathrm{diag}(e^2) X$, with a sparse central matrix.\n",
    "4. $Xe$ cross product."
   ]
  },
  {
   "cell_type": "code",
   "execution_count": 4,
   "metadata": {},
   "outputs": [
    {
     "name": "stderr",
     "output_type": "stream",
     "text": [
      "ERROR: Cell magic `%%R` not found.\n"
     ]
    }
   ],
   "source": [
    "%%R\n",
    "# an example of robust matrix, sparse matrix. Vecteroization.\n",
    "rm(list = ls( ) )\n",
    "library(Matrix)\n",
    "\n",
    "set.seed(111)\n",
    "\n",
    "# n = 6000; Rep = 10; # 'Matrix' is quick, 'matrix' is slow, adding is OK\n",
    "n = 50; Rep = 1000;  # 'Matrix' is slow,  'matrix' is quick, adding is OK\n",
    "\n",
    "for (opt in 1:4){\n",
    "  \n",
    "  pts0 = Sys.time()\n",
    "  \n",
    "  for (iter in 1:Rep){\n",
    "    # set the parameters\n",
    "    b0 = matrix( c(-1,1), nrow = 2 )\n",
    "    \n",
    "    # generate the data\n",
    "    e = rnorm(n)\n",
    "    X = cbind( 1, rnorm(n) ) \n",
    "    Y = (X %*% b0 + e >=0 ) \n",
    "    # note that in this regression b0 is not converge to b0 \n",
    "    # because the model is changed.\n",
    "    \n",
    "    # OLS estimation\n",
    "    bhat = solve( t(X) %*% X, t(X)%*% Y ) \n",
    "        \n",
    "    # calculate the t-value\n",
    "    bhat2 = bhat[2] # parameter we want to test\n",
    "    e_hat = Y - X %*% bhat\n",
    "    \n",
    "    XXe2 = matrix(0, nrow = 2, ncol = 2)\n",
    "    \n",
    "    if (opt == 1){\n",
    "      for ( i in 1:n){\n",
    "        XXe2 = XXe2 + e_hat[i]^2 * X[i,] %*% t(X[i,])\n",
    "      }\n",
    "    } else if (opt == 2) {\n",
    "      e_hat2_M = matrix(0, nrow = n, ncol = n)\n",
    "      diag(e_hat2_M) = e_hat^2\n",
    "      XXe2 = t(X) %*% e_hat2_M %*% X\n",
    "    } else if (opt == 3)  {\n",
    "      e_hat2_M = Matrix( 0, ncol = n, nrow = n)\n",
    "      diag(e_hat2_M) = e_hat^2\n",
    "      XXe2 = t(X) %*% e_hat2_M %*% X\n",
    "    } else if (opt == 4)  {\n",
    "      Xe = X * e\n",
    "      XXe2 = t(Xe) %*% Xe\n",
    "    } \n",
    "    \n",
    "    \n",
    "    XX_inv = solve( t(X) %*% X  )\n",
    "    sig_B =  XX_inv %*% XXe2 %*% XX_inv \n",
    "  }\n",
    "  cat(\"n = \", n, \", Rep = \", Rep, \", opt = \", opt, \", \n",
    "  time = \", Sys.time() - pts0, \"\\n\")\n",
    "}"
   ]
  },
  {
   "cell_type": "code",
   "execution_count": 5,
   "metadata": {},
   "outputs": [],
   "source": [
    "## n =  50 , Rep =  1000 , opt =  1 , \n",
    "##   time =  0.7375689 \n",
    "## n =  50 , Rep =  1000 , opt =  2 , \n",
    "##   time =  0.1711049 \n",
    "## n =  50 , Rep =  1000 , opt =  3 , \n",
    "##   time =  1.660798 \n",
    "## n =  50 , Rep =  1000 , opt =  4 , \n",
    "##   time =  0.114624"
   ]
  },
  {
   "cell_type": "markdown",
   "metadata": {},
   "source": [
    "## Efficient loop\n",
    "[`plyr`](http://plyr.had.co.nz/) is an R package developed by [Hadley Wickham](http://had.co.nz/). \n",
    "\n",
    "\n",
    "example: calculate the empirical coverage probability of a poisson distribution of degree of freedom 2."
   ]
  },
  {
   "cell_type": "code",
   "execution_count": 6,
   "metadata": {},
   "outputs": [
    {
     "name": "stderr",
     "output_type": "stream",
     "text": [
      "ERROR: Cell magic `%%R` not found.\n"
     ]
    }
   ],
   "source": [
    "%%R\n",
    "CI = function(x){ # construct confidence interval\n",
    "  # x is a vector of random variables\n",
    "  \n",
    "  n = length(x)\n",
    "  mu = mean(x)\n",
    "  sig = sd(x)\n",
    "  upper = mu + 1.96/sqrt(n) * sig\n",
    "  lower = mu - 1.96/sqrt(n) * sig\n",
    "  return( list( lower = lower, upper = upper) )\n",
    "}"
   ]
  },
  {
   "cell_type": "markdown",
   "metadata": {},
   "source": [
    "The standard loop"
   ]
  },
  {
   "cell_type": "code",
   "execution_count": 7,
   "metadata": {},
   "outputs": [
    {
     "name": "stderr",
     "output_type": "stream",
     "text": [
      "ERROR: Cell magic `%%R` not found.\n"
     ]
    }
   ],
   "source": [
    "%%R\n",
    "Rep = 10000\n",
    "sample_size = 1000\n",
    "\n",
    "# a standard loop\n",
    "out = rep(0, Rep)\n",
    "pts0 = Sys.time() # check time\n",
    "mu = 2\n",
    "for (i in 1:Rep){\n",
    "  x = rpois(sample_size, mu)\n",
    "  bounds = CI(x)\n",
    "  out[i] = ( ( bounds$lower <= mu  ) & (mu <= bounds$upper) )\n",
    "}\n",
    "cat( \"empirical coverage probability = \", mean(out), \"\\n\") # empirical size"
   ]
  },
  {
   "cell_type": "code",
   "execution_count": 8,
   "metadata": {},
   "outputs": [],
   "source": [
    "## empirical coverage probability =  0.9504"
   ]
  },
  {
   "cell_type": "code",
   "execution_count": 9,
   "metadata": {},
   "outputs": [
    {
     "name": "stderr",
     "output_type": "stream",
     "text": [
      "ERROR: Cell magic `%%R` not found.\n"
     ]
    }
   ],
   "source": [
    "%%R\n",
    "pts1 = Sys.time() - pts0 # check time elapse\n",
    "print(pts1)"
   ]
  },
  {
   "cell_type": "code",
   "execution_count": 10,
   "metadata": {},
   "outputs": [],
   "source": [
    "## Time difference of 0.8735361 secs"
   ]
  },
  {
   "cell_type": "markdown",
   "metadata": {},
   "source": [
    "A `plyr` loop. It saves book keeping chores, and easier to parallelize."
   ]
  },
  {
   "cell_type": "code",
   "execution_count": 11,
   "metadata": {},
   "outputs": [
    {
     "name": "stderr",
     "output_type": "stream",
     "text": [
      "ERROR: Cell magic `%%R` not found.\n"
     ]
    }
   ],
   "source": [
    "%%R\n",
    "library(plyr)\n",
    "\n",
    "capture = function(i){\n",
    "  x = rpois(sample_size, mu)\n",
    "  bounds = CI(x)\n",
    "  return( ( bounds$lower <= mu  ) & (mu <= bounds$upper) )\n",
    "}\n",
    "\n",
    "\n",
    "\n",
    "\n",
    "pts0 = Sys.time() # check time\n",
    "out = ldply( .data = 1:Rep, .fun = capture ) \n",
    "cat( \"empirical coverage probability = \", mean(out$V1), \"\\n\") # empirical size"
   ]
  },
  {
   "cell_type": "code",
   "execution_count": 12,
   "metadata": {},
   "outputs": [],
   "source": [
    "## empirical coverage probability =  0.9533"
   ]
  },
  {
   "cell_type": "code",
   "execution_count": 13,
   "metadata": {},
   "outputs": [
    {
     "name": "stderr",
     "output_type": "stream",
     "text": [
      "ERROR: Cell magic `%%R` not found.\n"
     ]
    }
   ],
   "source": [
    "%%R\n",
    "pts1 = Sys.time() - pts0 # check time elapse\n",
    "print(pts1)"
   ]
  },
  {
   "cell_type": "code",
   "execution_count": 14,
   "metadata": {},
   "outputs": [],
   "source": [
    "## Time difference of 0.8887589 secs"
   ]
  },
  {
   "cell_type": "markdown",
   "metadata": {},
   "source": [
    "#### Parallel computing\n",
    "\n",
    "\n",
    "The basic structure for parallel computing."
   ]
  },
  {
   "cell_type": "code",
   "execution_count": 15,
   "metadata": {},
   "outputs": [
    {
     "name": "stderr",
     "output_type": "stream",
     "text": [
      "ERROR: Cell magic `%%R` not found.\n"
     ]
    }
   ],
   "source": [
    "%%R\n",
    "library(plyr)\n",
    "library(foreach)\n",
    "library(doParallel)\n",
    "\n",
    "registerDoParallel() # opens other CPUs\n",
    "\n",
    "l_ply(.data = 1:10,\n",
    "      .fun = myfunction,\n",
    "      .parallel = TRUE,\n",
    "      .paropts = list( .packages = package.list, \n",
    "        .export = ls(envir=globalenv() ) )\n",
    ") "
   ]
  },
  {
   "cell_type": "markdown",
   "metadata": {},
   "source": [
    "In this comparative example, we try"
   ]
  },
  {
   "cell_type": "code",
   "execution_count": 16,
   "metadata": {},
   "outputs": [
    {
     "name": "stderr",
     "output_type": "stream",
     "text": [
      "ERROR: Cell magic `%%R` not found.\n"
     ]
    }
   ],
   "source": [
    "%%R\n",
    "registerDoParallel(2) # open 2 CPUs\n",
    "\n",
    "\n",
    "\n",
    "pts0 = Sys.time() # check time\n",
    "out = ldply(.data = 1:Rep, .fun = capture, .parallel = T,\n",
    "            .paropts = list(.export = ls(envir=globalenv() )) )\n",
    "cat( \"empirical coverage probability = \", mean(out$V1), \"\\n\") # empirical size"
   ]
  },
  {
   "cell_type": "code",
   "execution_count": 17,
   "metadata": {},
   "outputs": [],
   "source": [
    "## empirical coverage probability =  0.9488"
   ]
  },
  {
   "cell_type": "code",
   "execution_count": 18,
   "metadata": {},
   "outputs": [
    {
     "name": "stderr",
     "output_type": "stream",
     "text": [
      "ERROR: Cell magic `%%R` not found.\n"
     ]
    }
   ],
   "source": [
    "%%R\n",
    "pts1 = Sys.time() - pts0 # check time elapse\n",
    "print(pts1)"
   ]
  },
  {
   "cell_type": "code",
   "execution_count": 19,
   "metadata": {},
   "outputs": [],
   "source": [
    "## Time difference of 5.903375 secs"
   ]
  },
  {
   "cell_type": "markdown",
   "metadata": {},
   "source": [
    "The above block indeed takes more time, because each loop runs very fast.\n",
    "\n",
    "The code below shows a different story. Each loop takes more time, which dominates the overhead of the CPU communication."
   ]
  },
  {
   "cell_type": "code",
   "execution_count": 20,
   "metadata": {},
   "outputs": [
    {
     "name": "stderr",
     "output_type": "stream",
     "text": [
      "ERROR: Cell magic `%%R` not found.\n"
     ]
    }
   ],
   "source": [
    "%%R\n",
    "Rep = 200\n",
    "sample_size = 2000000\n",
    "pts0 = Sys.time() # check time\n",
    "out = ldply(.data = 1:Rep, .fun = capture, .parallel = FALSE) \n",
    "cat( \"empirical coverage probability = \", mean(out$V1), \"\\n\") # empirical size\n",
    "pts1 = Sys.time() - pts0 # check time elapse\n",
    "print(pts1)\n",
    "\n",
    "# compare to the parallel version\n",
    "pts0 = Sys.time() # check time\n",
    "out = ldply(.data = 1:Rep, .fun = capture, .parallel = TRUE,\n",
    "            .paropts = list(.export = ls(envir=globalenv() )) ) \n",
    "cat( \"empirical coverage probability = \", mean(out$V1), \"\\n\") # empirical size\n",
    "pts1 = Sys.time() - pts0 # check time elapse\n",
    "print(pts1)"
   ]
  },
  {
   "cell_type": "markdown",
   "metadata": {},
   "source": [
    "## Econ Super\n",
    "Try out this script on our econ super computer.\n",
    "\n",
    "\n",
    "1. Log in `econsuper`;\n",
    "2. Save the code block below as `loop_server.R`, and upload it to the server;\n",
    "3. In a terminal, run `R --vanilla <loop_server.R> result_your_name.out`;\n",
    "4. To run a command in the background, add `&` at the end of the above command. To keep it running after closing the console, add `nohup` at the beginning of the command."
   ]
  }
 ],
 "metadata": {},
 "nbformat": 4,
 "nbformat_minor": 0
}
