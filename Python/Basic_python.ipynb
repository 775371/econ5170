{
 "cells": [
  {
   "cell_type": "markdown",
   "metadata": {},
   "source": [
    "## Help System\n",
    "\n",
    "The help system is the first thing we must learn for a new language. In Python, if we know the exact name of a\n",
    "function and want to check its usage, we can call \n",
    "`help(function_name)`.\n",
    "This function returns the help related to python module, object or method if it is called with respective argument; but without any argument it will return the help related to currently running programming module.\n",
    "\n",
    "Example: `help()`, `help(str)`\n",
    "\n",
    "* `=` assigns the value on its right-hand side to a self-defined variable name on its left-hand side.\n",
    "* Binary arithmetic operators `+`, `-`, `*`, `/`, and `\\` are only performed to numbers. To do these operations element-wisely, use the `zip()` function or modules like `numpy`.\n",
    "* Logical operators: `not`, `and`, `or`. Logical values: `True`, `False`.\n",
    "\n",
    "Python, especially **Pandas**, **Numpy**, and **Scikit-Learn**, mark missing values as NaN."
   ]
  },
  {
   "cell_type": "markdown",
   "metadata": {},
   "source": [
    "## Data types in Python\n",
    "\n",
    "There are five standard data types in Python:\n",
    "\n",
    "* Numbers\n",
    "* String\n",
    "* List\n",
    "* Tuple\n",
    "* Dictionary\n",
    "\n",
    "Unlike C, Python does not require explicit type declaration. It sets the variable type based on the value that is assigned to it. The variable type will change along with the change of the variable value.\n",
    "\n",
    "Example:"
   ]
  },
  {
   "cell_type": "code",
   "execution_count": 45,
   "metadata": {},
   "outputs": [],
   "source": [
    "var = 11 #The data type of var is number\n",
    "\n",
    "var = 'python' #The 'var' variable is now of string type."
   ]
  },
  {
   "cell_type": "markdown",
   "metadata": {},
   "source": [
    "To find the type of a certain variable, use the function `type()`.\n",
    "\n",
    "### Numbers\n",
    "\n",
    "* int: `a = 10` #Signed integer\n",
    "* long: `a = 123L` #(L) stands for long integers; they can also be represented in octal and hexadecimal\n",
    "* float: `a = 45.67` #(.) marks floating point real values\n",
    "* complex: `a = 1 + 1J` #(J) is the imaginary part"
   ]
  },
  {
   "cell_type": "markdown",
   "metadata": {},
   "source": [
    "### String\n",
    "\n",
    "String variables are enclosed by quotes. \n",
    "Python use single quotes ' double quotes \" and triple quotes \"\"\" to denote literal strings. The triple quoted string \"\"\" will automatically continue across the end of the line statement.\n",
    "\n",
    "Example:"
   ]
  },
  {
   "cell_type": "code",
   "execution_count": 46,
   "metadata": {},
   "outputs": [],
   "source": [
    "var1 = 'hello world'\n",
    "\n",
    "var2 = \"I'm good.\"\n",
    "\n",
    "var3 = \"\"\"This is a string that will\n",
    "span across multiple lines.\"\"\""
   ]
  },
  {
   "cell_type": "markdown",
   "metadata": {},
   "source": [
    "### List\n",
    "\n",
    "Declare list variables using brackets `[]`. It can contain a series of values of different types.\n",
    "\n",
    "All lists in Python are **zero-based** indexed. To combine two or more lists into a long one, use the method `extend()`.\n",
    "\n",
    "Example:"
   ]
  },
  {
   "cell_type": "code",
   "execution_count": 47,
   "metadata": {},
   "outputs": [],
   "source": [
    "A = [] #This is a blank list variable\n",
    "\n",
    "B = [1, 23, 'bye'] #Lists can contain different variable types.\n",
    "\n",
    "C = [[1, 2], ['SEE'], []]\n",
    "\n",
    "s1 = [1, 2, 3]\n",
    "\n",
    "s2 = [4, 5]\n",
    "\n",
    "s3 = s1.extend(s2) #s3 is now [1, 2, 3, 4, 5]"
   ]
  },
  {
   "cell_type": "markdown",
   "metadata": {},
   "source": [
    "Logical list operation:"
   ]
  },
  {
   "cell_type": "code",
   "execution_count": 48,
   "metadata": {},
   "outputs": [
    {
     "name": "stdout",
     "output_type": "stream",
     "text": [
      "[[False, True, True], [False, True, True], [False, True, True]]\n"
     ]
    }
   ],
   "source": [
    "# Use the zip() function\n",
    "# logical lists:\n",
    "\n",
    "logi_1 = [True, True, False]\n",
    "\n",
    "logi_2 = [False, True, True]\n",
    "\n",
    "logi_12 = [logi_1 and logi_2 for i in range(len(logi_1))]\n",
    "\n",
    "print(logi_12)"
   ]
  },
  {
   "cell_type": "code",
   "execution_count": 49,
   "metadata": {},
   "outputs": [
    {
     "name": "stdout",
     "output_type": "stream",
     "text": [
      "[False  True False]\n"
     ]
    }
   ],
   "source": [
    "#Use the numpy module:\n",
    "\n",
    "import numpy as np\n",
    "\n",
    "logi_1 = np.array([True, True, False])\n",
    "\n",
    "logi_2 = np.array([False, True, True])\n",
    "\n",
    "logi_12 = logi_1 & logi_2\n",
    "\n",
    "print(logi_12)"
   ]
  },
  {
   "cell_type": "markdown",
   "metadata": {},
   "source": [
    "### Tuple\n",
    "\n",
    "Define tuples using parenthesis ( ). Tuples are a group of values like a list but they are fixed in size once they are assigned. Elements cannot be added to or removed from a tuple, therefore tuples have no `append` or `remove` method.\n",
    "\n",
    "Example:"
   ]
  },
  {
   "cell_type": "code",
   "execution_count": 50,
   "metadata": {},
   "outputs": [],
   "source": [
    "myTuple = (1, 23, 'bye')"
   ]
  },
  {
   "cell_type": "markdown",
   "metadata": {},
   "source": [
    "### Dictionary\n",
    "\n",
    "Dictionaries in Python are lists of `Key:Value` pairs. It allows the use of a key to access its members. In a dictionary the key must be unique. Dictionaries are created by using curly braces { } with pairs separated by comma `,` and the key values associated with a colon `:`.\n",
    "\n",
    "Example:"
   ]
  },
  {
   "cell_type": "code",
   "execution_count": 51,
   "metadata": {},
   "outputs": [
    {
     "name": "stdout",
     "output_type": "stream",
     "text": [
      "{'Smith': 66, 'Clinton': 50}\n"
     ]
    }
   ],
   "source": [
    "employerAge = {'Smith':35, 'Clinton':50}\n",
    "\n",
    "employerAge['Smith'] = 66 #set the value associated with the 'smith' key to 66\n",
    "\n",
    "print(employerAge)"
   ]
  },
  {
   "cell_type": "markdown",
   "metadata": {},
   "source": [
    "## Array and Matrix\n",
    "\n",
    "Python does not have built-in support for arrays, but Python lists can be used instead. Matrix can be implemented as 2-dimensional array.\n",
    "\n",
    "A more convenient option to implement array and matrix arithmetic is to use the module `numpy`.\n",
    "\n",
    "array/matrix arithmetic for numpy arrays/matrix:\n",
    "\n",
    "+, -, \\*, /, //, \\*\\*,  %\n",
    "\n",
    "element-by-element (except that * for numpy matrix is matrix multiplication). Unlike R, binary operations involving two objects of different length is not allowed in Python. \n",
    "\n",
    "* If `X` and `Y` are two matrices (`np.matrix()`), then `X * Y` denotes the matrix multiplication. \n",
    "* If `X` and `Y` are just normal arrays(np.array()), X * Y is element-by-element multiplication.\n",
    "\n",
    "Example:"
   ]
  },
  {
   "cell_type": "code",
   "execution_count": 52,
   "metadata": {},
   "outputs": [
    {
     "data": {
      "text/plain": [
       "matrix([[17,  1],\n",
       "        [28,  1]])"
      ]
     },
     "execution_count": 52,
     "metadata": {},
     "output_type": "execute_result"
    }
   ],
   "source": [
    "import numpy as np\n",
    "\n",
    "x = np.array([1, 5, 2])\n",
    "\n",
    "y = np.array([7, 4, 1])\n",
    "\n",
    "x + y #[8, 9, 3]\n",
    "\n",
    "x - y #[-6, 1, 1]\n",
    "\n",
    "x * y #[7, 20, 2]\n",
    "\n",
    "x // y #Integer division: [0, 1, 2]\n",
    "\n",
    "x % y #[1, 1, 0]\n",
    "\n",
    "X = np.array([[2, 3], [3, 5]])\n",
    "\n",
    "Y = np.array([[1, 2], [5, -1]])\n",
    "\n",
    "X * Y #element-wise multiplication: array([ [2, 6], [15, -5]])\n",
    "\n",
    "np.dot(X, Y) #matrix multiplication: matrix([ [17, 1], [28, 1]])\n",
    "\n",
    "np.mat(X) * np.mat(Y) #matrix multiplication: matrix([ [17, 1], [28, 1]])\n",
    "\n",
    "X = np.matrix([[2, 3], [3, 5]])\n",
    "\n",
    "Y = np.matrix([[1, 2], [5, -1]])\n",
    "\n",
    "X * Y #matrix multiplication: matrix([ [17, 1], [28, 1]])"
   ]
  },
  {
   "cell_type": "markdown",
   "metadata": {},
   "source": [
    "Example:\n",
    "\n",
    "Step 1: We need data `Y` and `X` to run OLS. We simulate an artificial dataset."
   ]
  },
  {
   "cell_type": "code",
   "execution_count": 53,
   "metadata": {},
   "outputs": [],
   "source": [
    "#simulate data \n",
    "\n",
    "import random\n",
    "import numpy as np\n",
    "\n",
    "np.random.seed(111)\n",
    "\n",
    "n = 100\n",
    "\n",
    "b0 = np.full((2, 1), 1)\n",
    "\n",
    "e = np.random.normal(size = (n, 1))\n",
    "\n",
    "X = np.column_stack((np.full((n, 1), 1), np.random.normal(size = (n, 1))))\n",
    "\n",
    "Y = np.dot(X, b0) + e"
   ]
  },
  {
   "cell_type": "markdown",
   "metadata": {},
   "source": [
    "Step 2: translate the formula to code"
   ]
  },
  {
   "cell_type": "code",
   "execution_count": 54,
   "metadata": {},
   "outputs": [],
   "source": [
    "#OLS estimation\n",
    "bhat = np.dot(np.linalg.inv(np.dot(X.T, X)), np.dot(X.T, Y))"
   ]
  },
  {
   "cell_type": "markdown",
   "metadata": {},
   "source": [
    "Step 3 (additional): plot the regression graph with the scatter points and the regression line. Further compare the regression line (black) with the true coefficient line (red)."
   ]
  },
  {
   "cell_type": "code",
   "execution_count": 55,
   "metadata": {},
   "outputs": [
    {
     "data": {
      "image/png": "[encoded data removed]",
      "text/plain": [
       "<matplotlib.figure.Figure at 0x1e1e2b955c0>"
      ]
     },
     "metadata": {},
     "output_type": "display_data"
    }
   ],
   "source": [
    "#plot\n",
    "\n",
    "import matplotlib.pyplot as plt\n",
    "\n",
    "plt.plot(X[:, 1], Y, 'o')\n",
    "\n",
    "plt.plot(X[:, 1], np.dot(X, b0), color='red', linestyle='-')\n",
    "\n",
    "plt.plot(X[:, 1], np.dot(X, bhat), color='black', linestyle='-')\n",
    "\n",
    "plt.title('regression')\n",
    "\n",
    "plt.xlabel('X')\n",
    "\n",
    "plt.ylabel('Y')\n",
    "\n",
    "plt.axhline(0, color = 'black', linestyle = 'dashed')\n",
    "\n",
    "plt.axvline(0, color = 'black', linestyle = 'dashed')\n",
    "\n",
    "plt.show()\n",
    "# ![](https://github.com/Jingyi-W/Pics/blob/master/Python01_01.png?raw=true)"
   ]
  },
  {
   "cell_type": "markdown",
   "metadata": {},
   "source": [
    "Step 4:"
   ]
  },
  {
   "cell_type": "code",
   "execution_count": 56,
   "metadata": {},
   "outputs": [
    {
     "name": "stdout",
     "output_type": "stream",
     "text": [
      "-0.777177290317012\n"
     ]
    }
   ],
   "source": [
    "#calculate the t-value\n",
    "\n",
    "import math\n",
    "\n",
    "bhat2 = bhat[1, 0]\n",
    "\n",
    "e_hat = Y - np.dot(X, bhat)\n",
    "\n",
    "sigma_hat_square = np.dot(e_hat.T, e_hat) / (n - 2)\n",
    "\n",
    "Sigma_B = np.linalg.inv(np.dot(X.T, X)) * sigma_hat_square\n",
    "\n",
    "t_value_2 = (bhat2 - b0[1, 0]) / math.sqrt(Sigma_B[1, 1])\n",
    "\n",
    "print(t_value_2)"
   ]
  },
  {
   "cell_type": "markdown",
   "metadata": {},
   "source": [
    "## Input and Output\n",
    "\n",
    "To read and write csv files in Python, use the pandas library.\n",
    "\n",
    "Example:\n",
    "```\n",
    "import pandas as pd\n",
    "sample_data = pd.read_csv('source.csv')\n",
    "sample_data = sample_data.dropna()\n",
    "pd.to_csv(sample_data, file = 'out.csv')\n",
    "```"
   ]
  },
  {
   "cell_type": "markdown",
   "metadata": {},
   "source": [
    "## Statistics\n",
    "\n",
    "To implement most of the statistical tasks, use the package SciPy. Commonly used probability distributions can be found in the \n",
    "subpackage SciPy.stats. If you hope to draw the kernel density plot for a given set of data, use the seaborn package.\n",
    "\n",
    "Example:"
   ]
  },
  {
   "cell_type": "code",
   "execution_count": 57,
   "metadata": {},
   "outputs": [
    {
     "data": {
      "image/png": "[encoded data removed]",
      "text/plain": [
       "<matplotlib.figure.Figure at 0x1e1e2eef6a0>"
      ]
     },
     "metadata": {},
     "output_type": "display_data"
    },
    {
     "name": "stdout",
     "output_type": "stream",
     "text": [
      "0.053\n"
     ]
    }
   ],
   "source": [
    "import seaborn as sns\n",
    "from scipy import stats\n",
    "import numpy as np\n",
    "import matplotlib.pyplot as plt\n",
    "\n",
    "x = np.linspace(0.01, 16, num = 1600)\n",
    "y = stats.chi2.pdf(x, 3)\n",
    "z = stats.chi2.rvs(3, size = 1000)\n",
    "plt.plot(x, y, linestyle = '-', color = 'black')\n",
    "sns.distplot(z, hist = False, color = 'red')\n",
    "plt.xlim(-0.5, 16)\n",
    "plt.ylim(-0.01, 0.25)\n",
    "plt.xlabel('X')\n",
    "plt.ylabel('density')\n",
    "plt.show()\n",
    "\n",
    "crit = stats.chi2.ppf(q = 0.95, df = 3)\n",
    "\n",
    "print(len([i for i in z if i > crit]) / len(z))"
   ]
  },
  {
   "cell_type": "markdown",
   "metadata": {},
   "source": [
    "## User-defined function\n",
    "\n",
    "The format of a user-defined function in Python is\n",
    "```\n",
    "def function_name(input):\n",
    "\n",
    "  expressions \n",
    "  return output\n",
    "```\n",
    "\n",
    "The beginning of the main function is written as follows:\n",
    "\n",
    "```\n",
    "if \\__name__ == '\\__main__':\n",
    "\n",
    "  expressions\n",
    "  function_name\n",
    "```\n",
    "\n",
    "Example:"
   ]
  },
  {
   "cell_type": "code",
   "execution_count": 58,
   "metadata": {},
   "outputs": [],
   "source": [
    "#construct confidence interval\n",
    "\n",
    "import math\n",
    "import statistics\n",
    "\n",
    "def CI(x):\n",
    "\n",
    "  #x is a vector of random variables\n",
    "  n = len(x)  \n",
    "  mu = statistics.mean(x)\n",
    "  sig = statistics.stdev(x)\n",
    "  upper = mu + 1.96 / math.sqrt(n) * sig\n",
    "  lower = mu - 1.96 / math.sqrt(n) * sig\n",
    "  return {'lower': lower, 'upper': upper}"
   ]
  },
  {
   "cell_type": "markdown",
   "metadata": {},
   "source": [
    "## Flow Control\n",
    "\n",
    "Example"
   ]
  },
  {
   "cell_type": "code",
   "execution_count": 59,
   "metadata": {},
   "outputs": [
    {
     "name": "stdout",
     "output_type": "stream",
     "text": [
      "{'lower': 0.804, 'upper': 1.196}\n",
      "0.497\n",
      "0:00:00.592450\n"
     ]
    }
   ],
   "source": [
    "import datetime\n",
    "import statistics\n",
    "from scipy import stats\n",
    "\n",
    "Rep = 1000\n",
    "sample_size = 100\n",
    "capture = [0] * Rep\n",
    "\n",
    "#check time\n",
    "pts0 = datetime.datetime.now()\n",
    "\n",
    "# start the iteration\n",
    "for i in range(0, Rep):\n",
    "  mu = 2\n",
    "  x = stats.poisson.rvs(mu, size = sample_size) # generate random variables \n",
    "    \n",
    "  bounds = CI(x)\n",
    "\n",
    "  if (bounds['lower'] <= mu and mu <= bounds['upper']):\n",
    "    capture[i] = 1\n",
    "\n",
    "    \n",
    "###########\n",
    "x = stats.poisson.rvs(mu, size = sample_size) # generate random variables \n",
    "bounds = CI(x)\n",
    "print(bounds)\n",
    "\n",
    "print(statistics.mean(capture))\n",
    "\n",
    "# print time\n",
    "pts1 = datetime.datetime.now() - pts0\n",
    "print(pts1)\n",
    "\n",
    "## I don't understand the behavior of this part. The rejection rate is supposed to be 0.05"
   ]
  },
  {
   "cell_type": "code",
   "execution_count": 60,
   "metadata": {},
   "outputs": [
    {
     "name": "stdout",
     "output_type": "stream",
     "text": [
      "                            OLS Regression Results                            \n",
      "==============================================================================\n",
      "Dep. Variable:                      y   R-squared:                       0.374\n",
      "Model:                            OLS   Adj. R-squared:                  0.367\n",
      "Method:                 Least Squares   F-statistic:                     59.08\n",
      "Date:                Wed, 11 Jul 2018   Prob (F-statistic):           1.12e-11\n",
      "Time:                        22:12:59   Log-Likelihood:                -156.84\n",
      "No. Observations:                 100   AIC:                             315.7\n",
      "Df Residuals:                      99   BIC:                             318.3\n",
      "Df Model:                           1                                         \n",
      "Covariance Type:            nonrobust                                         \n",
      "==============================================================================\n",
      "                 coef    std err          t      P>|t|      [0.025      0.975]\n",
      "------------------------------------------------------------------------------\n",
      "x1             0.9665      0.126      7.686      0.000       0.717       1.216\n",
      "==============================================================================\n",
      "Omnibus:                        2.456   Durbin-Watson:                   1.739\n",
      "Prob(Omnibus):                  0.293   Jarque-Bera (JB):                2.154\n",
      "Skew:                          -0.359   Prob(JB):                        0.341\n",
      "Kurtosis:                       3.021   Cond. No.                         1.00\n",
      "==============================================================================\n",
      "\n",
      "Warnings:\n",
      "[1] Standard Errors assume that the covariance matrix of the errors is correctly specified.\n"
     ]
    },
    {
     "data": {
      "image/png": "[encoded data removed]",
      "text/plain": [
       "<matplotlib.figure.Figure at 0x1e1e3058668>"
      ]
     },
     "metadata": {},
     "output_type": "display_data"
    }
   ],
   "source": [
    "## Statistical model\n",
    "\n",
    "import numpy as np\n",
    "from scipy import stats\n",
    "import statsmodels.api as sm\n",
    "import matplotlib.pyplot as plt\n",
    "\n",
    "T = 100\n",
    "p = 1\n",
    "b0 = 1\n",
    "\n",
    "#generate data\n",
    "\n",
    "x = np.full(T, stats.norm.rvs(size = T * p))\n",
    "y = np.dot(x, b0) + stats.norm.rvs(size = T)\n",
    "\n",
    "#Linear model\n",
    "\n",
    "model = sm.OLS(y, x)\n",
    "results = model.fit()\n",
    "print(results.summary())\n",
    "\n",
    "\n",
    "plt.plot(results.fittedvalues, color = 'red', label = 'Fitted Value')\n",
    "plt.plot(y, color = 'blue', linestyle = 'dashed', label = 'True Value')\n",
    "plt.title('Fitted Value')\n",
    "plt.xlabel('x')\n",
    "plt.ylabel('y')\n",
    "plt.legend()\n",
    "plt.show()\n"
   ]
  },
  {
   "cell_type": "code",
   "execution_count": 61,
   "metadata": {},
   "outputs": [
    {
     "data": {
      "image/png": "[encoded data removed]",
      "text/plain": [
       "<matplotlib.figure.Figure at 0x1e1e300e860>"
      ]
     },
     "metadata": {},
     "output_type": "display_data"
    }
   ],
   "source": [
    "plt.plot(x, results.fittedvalues, color = 'black', label = 'Fitted Line')\n",
    "plt.plot(x, np.dot(x, b0), color = 'red', label = 'True Coef')\n",
    "plt.scatter(x, y, color = 'black', marker = 'o')\n",
    "plt.title('Fitted Value')\n",
    "plt.xlabel('x')\n",
    "plt.ylabel('y')\n",
    "plt.legend()\n",
    "plt.show()"
   ]
  }
 ],
 "metadata": {
  "kernelspec": {
   "display_name": "Python 3",
   "language": "python",
   "name": "python3"
  },
  "language_info": {
   "codemirror_mode": {
    "name": "ipython",
    "version": 3
   },
   "file_extension": ".py",
   "mimetype": "text/x-python",
   "name": "python",
   "nbconvert_exporter": "python",
   "pygments_lexer": "ipython3",
   "version": "3.6.4"
  }
 },
 "nbformat": 4,
 "nbformat_minor": 2
}
